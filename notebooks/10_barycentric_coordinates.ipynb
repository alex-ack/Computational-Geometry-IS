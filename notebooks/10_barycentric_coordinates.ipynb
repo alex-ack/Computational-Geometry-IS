{
 "cells": [
  {
   "cell_type": "code",
   "execution_count": 2,
   "metadata": {},
   "outputs": [
    {
     "data": {
      "application/vnd.plotly.v1+json": {
       "config": {
        "plotlyServerURL": "https://plot.ly"
       },
       "data": [
        {
         "hovertemplate": "Vertex: %{text}<br>x: %{x}<br>y: %{y}<extra></extra>",
         "line": {
          "color": "blue",
          "width": 2
         },
         "marker": {
          "size": 10
         },
         "mode": "lines+markers",
         "name": "Triangle",
         "text": [
          "V1",
          "V2",
          "V3",
          "V1"
         ],
         "type": "scatter",
         "x": [
          0,
          4,
          2,
          0
         ],
         "y": [
          0,
          0,
          3,
          0
         ]
        },
        {
         "hovertemplate": "%{text}<extra></extra>",
         "marker": {
          "color": "green",
          "size": 12,
          "symbol": "circle"
         },
         "mode": "markers",
         "name": "(2, 1)",
         "text": [
          "Point (2, 1)<br>λ1: 0.333<br>λ2: 0.333<br>λ3: 0.333<br>Inside: True"
         ],
         "type": "scatter",
         "x": [
          2
         ],
         "y": [
          1
         ]
        },
        {
         "hovertemplate": "%{text}<extra></extra>",
         "marker": {
          "color": "green",
          "size": 12,
          "symbol": "circle"
         },
         "mode": "markers",
         "name": "(2, 0)",
         "text": [
          "Point (2, 0)<br>λ1: 0.500<br>λ2: 0.500<br>λ3: 0.000<br>Inside: True"
         ],
         "type": "scatter",
         "x": [
          2
         ],
         "y": [
          0
         ]
        },
        {
         "hovertemplate": "%{text}<extra></extra>",
         "marker": {
          "color": "green",
          "size": 12,
          "symbol": "circle"
         },
         "mode": "markers",
         "name": "(0, 0)",
         "text": [
          "Point (0, 0)<br>λ1: 1.000<br>λ2: 0.000<br>λ3: 0.000<br>Inside: True"
         ],
         "type": "scatter",
         "x": [
          0
         ],
         "y": [
          0
         ]
        },
        {
         "hovertemplate": "%{text}<extra></extra>",
         "marker": {
          "color": "red",
          "size": 12,
          "symbol": "circle"
         },
         "mode": "markers",
         "name": "(3, 3)",
         "text": [
          "Point (3, 3)<br>λ1: -0.250<br>λ2: 0.250<br>λ3: 1.000<br>Inside: False"
         ],
         "type": "scatter",
         "x": [
          3
         ],
         "y": [
          3
         ]
        },
        {
         "hovertemplate": "%{text}<extra></extra>",
         "marker": {
          "color": "green",
          "size": 12,
          "symbol": "circle"
         },
         "mode": "markers",
         "name": "(1, 1)",
         "text": [
          "Point (1, 1)<br>λ1: 0.583<br>λ2: 0.083<br>λ3: 0.333<br>Inside: True"
         ],
         "type": "scatter",
         "x": [
          1
         ],
         "y": [
          1
         ]
        }
       ],
       "layout": {
        "height": 600,
        "hovermode": "closest",
        "showlegend": true,
        "template": {
         "data": {
          "bar": [
           {
            "error_x": {
             "color": "#2a3f5f"
            },
            "error_y": {
             "color": "#2a3f5f"
            },
            "marker": {
             "line": {
              "color": "#E5ECF6",
              "width": 0.5
             },
             "pattern": {
              "fillmode": "overlay",
              "size": 10,
              "solidity": 0.2
             }
            },
            "type": "bar"
           }
          ],
          "barpolar": [
           {
            "marker": {
             "line": {
              "color": "#E5ECF6",
              "width": 0.5
             },
             "pattern": {
              "fillmode": "overlay",
              "size": 10,
              "solidity": 0.2
             }
            },
            "type": "barpolar"
           }
          ],
          "carpet": [
           {
            "aaxis": {
             "endlinecolor": "#2a3f5f",
             "gridcolor": "white",
             "linecolor": "white",
             "minorgridcolor": "white",
             "startlinecolor": "#2a3f5f"
            },
            "baxis": {
             "endlinecolor": "#2a3f5f",
             "gridcolor": "white",
             "linecolor": "white",
             "minorgridcolor": "white",
             "startlinecolor": "#2a3f5f"
            },
            "type": "carpet"
           }
          ],
          "choropleth": [
           {
            "colorbar": {
             "outlinewidth": 0,
             "ticks": ""
            },
            "type": "choropleth"
           }
          ],
          "contour": [
           {
            "colorbar": {
             "outlinewidth": 0,
             "ticks": ""
            },
            "colorscale": [
             [
              0,
              "#0d0887"
             ],
             [
              0.1111111111111111,
              "#46039f"
             ],
             [
              0.2222222222222222,
              "#7201a8"
             ],
             [
              0.3333333333333333,
              "#9c179e"
             ],
             [
              0.4444444444444444,
              "#bd3786"
             ],
             [
              0.5555555555555556,
              "#d8576b"
             ],
             [
              0.6666666666666666,
              "#ed7953"
             ],
             [
              0.7777777777777778,
              "#fb9f3a"
             ],
             [
              0.8888888888888888,
              "#fdca26"
             ],
             [
              1,
              "#f0f921"
             ]
            ],
            "type": "contour"
           }
          ],
          "contourcarpet": [
           {
            "colorbar": {
             "outlinewidth": 0,
             "ticks": ""
            },
            "type": "contourcarpet"
           }
          ],
          "heatmap": [
           {
            "colorbar": {
             "outlinewidth": 0,
             "ticks": ""
            },
            "colorscale": [
             [
              0,
              "#0d0887"
             ],
             [
              0.1111111111111111,
              "#46039f"
             ],
             [
              0.2222222222222222,
              "#7201a8"
             ],
             [
              0.3333333333333333,
              "#9c179e"
             ],
             [
              0.4444444444444444,
              "#bd3786"
             ],
             [
              0.5555555555555556,
              "#d8576b"
             ],
             [
              0.6666666666666666,
              "#ed7953"
             ],
             [
              0.7777777777777778,
              "#fb9f3a"
             ],
             [
              0.8888888888888888,
              "#fdca26"
             ],
             [
              1,
              "#f0f921"
             ]
            ],
            "type": "heatmap"
           }
          ],
          "heatmapgl": [
           {
            "colorbar": {
             "outlinewidth": 0,
             "ticks": ""
            },
            "colorscale": [
             [
              0,
              "#0d0887"
             ],
             [
              0.1111111111111111,
              "#46039f"
             ],
             [
              0.2222222222222222,
              "#7201a8"
             ],
             [
              0.3333333333333333,
              "#9c179e"
             ],
             [
              0.4444444444444444,
              "#bd3786"
             ],
             [
              0.5555555555555556,
              "#d8576b"
             ],
             [
              0.6666666666666666,
              "#ed7953"
             ],
             [
              0.7777777777777778,
              "#fb9f3a"
             ],
             [
              0.8888888888888888,
              "#fdca26"
             ],
             [
              1,
              "#f0f921"
             ]
            ],
            "type": "heatmapgl"
           }
          ],
          "histogram": [
           {
            "marker": {
             "pattern": {
              "fillmode": "overlay",
              "size": 10,
              "solidity": 0.2
             }
            },
            "type": "histogram"
           }
          ],
          "histogram2d": [
           {
            "colorbar": {
             "outlinewidth": 0,
             "ticks": ""
            },
            "colorscale": [
             [
              0,
              "#0d0887"
             ],
             [
              0.1111111111111111,
              "#46039f"
             ],
             [
              0.2222222222222222,
              "#7201a8"
             ],
             [
              0.3333333333333333,
              "#9c179e"
             ],
             [
              0.4444444444444444,
              "#bd3786"
             ],
             [
              0.5555555555555556,
              "#d8576b"
             ],
             [
              0.6666666666666666,
              "#ed7953"
             ],
             [
              0.7777777777777778,
              "#fb9f3a"
             ],
             [
              0.8888888888888888,
              "#fdca26"
             ],
             [
              1,
              "#f0f921"
             ]
            ],
            "type": "histogram2d"
           }
          ],
          "histogram2dcontour": [
           {
            "colorbar": {
             "outlinewidth": 0,
             "ticks": ""
            },
            "colorscale": [
             [
              0,
              "#0d0887"
             ],
             [
              0.1111111111111111,
              "#46039f"
             ],
             [
              0.2222222222222222,
              "#7201a8"
             ],
             [
              0.3333333333333333,
              "#9c179e"
             ],
             [
              0.4444444444444444,
              "#bd3786"
             ],
             [
              0.5555555555555556,
              "#d8576b"
             ],
             [
              0.6666666666666666,
              "#ed7953"
             ],
             [
              0.7777777777777778,
              "#fb9f3a"
             ],
             [
              0.8888888888888888,
              "#fdca26"
             ],
             [
              1,
              "#f0f921"
             ]
            ],
            "type": "histogram2dcontour"
           }
          ],
          "mesh3d": [
           {
            "colorbar": {
             "outlinewidth": 0,
             "ticks": ""
            },
            "type": "mesh3d"
           }
          ],
          "parcoords": [
           {
            "line": {
             "colorbar": {
              "outlinewidth": 0,
              "ticks": ""
             }
            },
            "type": "parcoords"
           }
          ],
          "pie": [
           {
            "automargin": true,
            "type": "pie"
           }
          ],
          "scatter": [
           {
            "fillpattern": {
             "fillmode": "overlay",
             "size": 10,
             "solidity": 0.2
            },
            "type": "scatter"
           }
          ],
          "scatter3d": [
           {
            "line": {
             "colorbar": {
              "outlinewidth": 0,
              "ticks": ""
             }
            },
            "marker": {
             "colorbar": {
              "outlinewidth": 0,
              "ticks": ""
             }
            },
            "type": "scatter3d"
           }
          ],
          "scattercarpet": [
           {
            "marker": {
             "colorbar": {
              "outlinewidth": 0,
              "ticks": ""
             }
            },
            "type": "scattercarpet"
           }
          ],
          "scattergeo": [
           {
            "marker": {
             "colorbar": {
              "outlinewidth": 0,
              "ticks": ""
             }
            },
            "type": "scattergeo"
           }
          ],
          "scattergl": [
           {
            "marker": {
             "colorbar": {
              "outlinewidth": 0,
              "ticks": ""
             }
            },
            "type": "scattergl"
           }
          ],
          "scattermapbox": [
           {
            "marker": {
             "colorbar": {
              "outlinewidth": 0,
              "ticks": ""
             }
            },
            "type": "scattermapbox"
           }
          ],
          "scatterpolar": [
           {
            "marker": {
             "colorbar": {
              "outlinewidth": 0,
              "ticks": ""
             }
            },
            "type": "scatterpolar"
           }
          ],
          "scatterpolargl": [
           {
            "marker": {
             "colorbar": {
              "outlinewidth": 0,
              "ticks": ""
             }
            },
            "type": "scatterpolargl"
           }
          ],
          "scatterternary": [
           {
            "marker": {
             "colorbar": {
              "outlinewidth": 0,
              "ticks": ""
             }
            },
            "type": "scatterternary"
           }
          ],
          "surface": [
           {
            "colorbar": {
             "outlinewidth": 0,
             "ticks": ""
            },
            "colorscale": [
             [
              0,
              "#0d0887"
             ],
             [
              0.1111111111111111,
              "#46039f"
             ],
             [
              0.2222222222222222,
              "#7201a8"
             ],
             [
              0.3333333333333333,
              "#9c179e"
             ],
             [
              0.4444444444444444,
              "#bd3786"
             ],
             [
              0.5555555555555556,
              "#d8576b"
             ],
             [
              0.6666666666666666,
              "#ed7953"
             ],
             [
              0.7777777777777778,
              "#fb9f3a"
             ],
             [
              0.8888888888888888,
              "#fdca26"
             ],
             [
              1,
              "#f0f921"
             ]
            ],
            "type": "surface"
           }
          ],
          "table": [
           {
            "cells": {
             "fill": {
              "color": "#EBF0F8"
             },
             "line": {
              "color": "white"
             }
            },
            "header": {
             "fill": {
              "color": "#C8D4E3"
             },
             "line": {
              "color": "white"
             }
            },
            "type": "table"
           }
          ]
         },
         "layout": {
          "annotationdefaults": {
           "arrowcolor": "#2a3f5f",
           "arrowhead": 0,
           "arrowwidth": 1
          },
          "autotypenumbers": "strict",
          "coloraxis": {
           "colorbar": {
            "outlinewidth": 0,
            "ticks": ""
           }
          },
          "colorscale": {
           "diverging": [
            [
             0,
             "#8e0152"
            ],
            [
             0.1,
             "#c51b7d"
            ],
            [
             0.2,
             "#de77ae"
            ],
            [
             0.3,
             "#f1b6da"
            ],
            [
             0.4,
             "#fde0ef"
            ],
            [
             0.5,
             "#f7f7f7"
            ],
            [
             0.6,
             "#e6f5d0"
            ],
            [
             0.7,
             "#b8e186"
            ],
            [
             0.8,
             "#7fbc41"
            ],
            [
             0.9,
             "#4d9221"
            ],
            [
             1,
             "#276419"
            ]
           ],
           "sequential": [
            [
             0,
             "#0d0887"
            ],
            [
             0.1111111111111111,
             "#46039f"
            ],
            [
             0.2222222222222222,
             "#7201a8"
            ],
            [
             0.3333333333333333,
             "#9c179e"
            ],
            [
             0.4444444444444444,
             "#bd3786"
            ],
            [
             0.5555555555555556,
             "#d8576b"
            ],
            [
             0.6666666666666666,
             "#ed7953"
            ],
            [
             0.7777777777777778,
             "#fb9f3a"
            ],
            [
             0.8888888888888888,
             "#fdca26"
            ],
            [
             1,
             "#f0f921"
            ]
           ],
           "sequentialminus": [
            [
             0,
             "#0d0887"
            ],
            [
             0.1111111111111111,
             "#46039f"
            ],
            [
             0.2222222222222222,
             "#7201a8"
            ],
            [
             0.3333333333333333,
             "#9c179e"
            ],
            [
             0.4444444444444444,
             "#bd3786"
            ],
            [
             0.5555555555555556,
             "#d8576b"
            ],
            [
             0.6666666666666666,
             "#ed7953"
            ],
            [
             0.7777777777777778,
             "#fb9f3a"
            ],
            [
             0.8888888888888888,
             "#fdca26"
            ],
            [
             1,
             "#f0f921"
            ]
           ]
          },
          "colorway": [
           "#636efa",
           "#EF553B",
           "#00cc96",
           "#ab63fa",
           "#FFA15A",
           "#19d3f3",
           "#FF6692",
           "#B6E880",
           "#FF97FF",
           "#FECB52"
          ],
          "font": {
           "color": "#2a3f5f"
          },
          "geo": {
           "bgcolor": "white",
           "lakecolor": "white",
           "landcolor": "#E5ECF6",
           "showlakes": true,
           "showland": true,
           "subunitcolor": "white"
          },
          "hoverlabel": {
           "align": "left"
          },
          "hovermode": "closest",
          "mapbox": {
           "style": "light"
          },
          "paper_bgcolor": "white",
          "plot_bgcolor": "#E5ECF6",
          "polar": {
           "angularaxis": {
            "gridcolor": "white",
            "linecolor": "white",
            "ticks": ""
           },
           "bgcolor": "#E5ECF6",
           "radialaxis": {
            "gridcolor": "white",
            "linecolor": "white",
            "ticks": ""
           }
          },
          "scene": {
           "xaxis": {
            "backgroundcolor": "#E5ECF6",
            "gridcolor": "white",
            "gridwidth": 2,
            "linecolor": "white",
            "showbackground": true,
            "ticks": "",
            "zerolinecolor": "white"
           },
           "yaxis": {
            "backgroundcolor": "#E5ECF6",
            "gridcolor": "white",
            "gridwidth": 2,
            "linecolor": "white",
            "showbackground": true,
            "ticks": "",
            "zerolinecolor": "white"
           },
           "zaxis": {
            "backgroundcolor": "#E5ECF6",
            "gridcolor": "white",
            "gridwidth": 2,
            "linecolor": "white",
            "showbackground": true,
            "ticks": "",
            "zerolinecolor": "white"
           }
          },
          "shapedefaults": {
           "line": {
            "color": "#2a3f5f"
           }
          },
          "ternary": {
           "aaxis": {
            "gridcolor": "white",
            "linecolor": "white",
            "ticks": ""
           },
           "baxis": {
            "gridcolor": "white",
            "linecolor": "white",
            "ticks": ""
           },
           "bgcolor": "#E5ECF6",
           "caxis": {
            "gridcolor": "white",
            "linecolor": "white",
            "ticks": ""
           }
          },
          "title": {
           "x": 0.05
          },
          "xaxis": {
           "automargin": true,
           "gridcolor": "white",
           "linecolor": "white",
           "ticks": "",
           "title": {
            "standoff": 15
           },
           "zerolinecolor": "white",
           "zerolinewidth": 2
          },
          "yaxis": {
           "automargin": true,
           "gridcolor": "white",
           "linecolor": "white",
           "ticks": "",
           "title": {
            "standoff": 15
           },
           "zerolinecolor": "white",
           "zerolinewidth": 2
          }
         }
        },
        "title": {
         "text": "Triangle Point Test with Barycentric Coordinates"
        },
        "width": 800,
        "xaxis": {
         "title": {
          "text": "X"
         }
        },
        "yaxis": {
         "scaleanchor": "x",
         "scaleratio": 1,
         "title": {
          "text": "Y"
         }
        }
       }
      }
     },
     "metadata": {},
     "output_type": "display_data"
    }
   ],
   "source": [
    "import plotly.graph_objects as go\n",
    "import numpy as np\n",
    "\n",
    "class Triangle:\n",
    "    def __init__(self, p1, p2, p3):\n",
    "        \"\"\"Initialize triangle with three points as tuples (x,y)\"\"\"\n",
    "        self.p1 = p1\n",
    "        self.p2 = p2\n",
    "        self.p3 = p3\n",
    "    \n",
    "    def get_barycentric_coordinates(self, point):\n",
    "        \"\"\"\n",
    "        Calculate barycentric coordinates (λ1, λ2, λ3) for given point\n",
    "        Returns tuple of three weights that sum to 1\n",
    "        \"\"\"\n",
    "        x, y = point\n",
    "        x1, y1 = self.p1\n",
    "        x2, y2 = self.p2\n",
    "        x3, y3 = self.p3\n",
    "        \n",
    "        # Calculate denominator for barycentric formula\n",
    "        denominator = ((y2 - y3)*(x1 - x3) + (x3 - x2)*(y1 - y3))\n",
    "        \n",
    "        # Calculate first weight (λ1)\n",
    "        lambda1 = ((y2 - y3)*(x - x3) + (x3 - x2)*(y - y3)) / denominator\n",
    "        \n",
    "        # Calculate second weight (λ2)\n",
    "        lambda2 = ((y3 - y1)*(x - x3) + (x1 - x3)*(y - y3)) / denominator\n",
    "        \n",
    "        # Calculate third weight (λ3)\n",
    "        lambda3 = 1 - lambda1 - lambda2\n",
    "        \n",
    "        return (lambda1, lambda2, lambda3)\n",
    "    \n",
    "    def contains_point(self, point):\n",
    "        \"\"\"\n",
    "        Check if point lies inside triangle using barycentric coordinates\n",
    "        Returns True if point is inside or on the triangle, False otherwise\n",
    "        \"\"\"\n",
    "        lambda1, lambda2, lambda3 = self.get_barycentric_coordinates(point)\n",
    "        \n",
    "        # Point is inside or on triangle if all weights are between 0 and 1\n",
    "        return (0 <= lambda1 <= 1) and (0 <= lambda2 <= 1) and (0 <= lambda3 <= 1)\n",
    "\n",
    "class TrianglePlotter:\n",
    "    def __init__(self, triangle):\n",
    "        self.triangle = triangle\n",
    "        \n",
    "    def create_figure(self, test_points):\n",
    "        # Create figure\n",
    "        fig = go.Figure()\n",
    "        \n",
    "        # Plot triangle\n",
    "        x_coords = [self.triangle.p1[0], self.triangle.p2[0], self.triangle.p3[0], self.triangle.p1[0]]\n",
    "        y_coords = [self.triangle.p1[1], self.triangle.p2[1], self.triangle.p3[1], self.triangle.p1[1]]\n",
    "        \n",
    "        fig.add_trace(go.Scatter(\n",
    "            x=x_coords,\n",
    "            y=y_coords,\n",
    "            mode='lines+markers',\n",
    "            name='Triangle',\n",
    "            line=dict(color='blue', width=2),\n",
    "            marker=dict(size=10),\n",
    "            text=['V1', 'V2', 'V3', 'V1'],\n",
    "            hovertemplate='Vertex: %{text}<br>x: %{x}<br>y: %{y}<extra></extra>'\n",
    "        ))\n",
    "        \n",
    "        # Plot test points\n",
    "        for point in test_points:\n",
    "            weights = self.triangle.get_barycentric_coordinates(point)\n",
    "            is_inside = self.triangle.contains_point(point)\n",
    "            color = 'green' if is_inside else 'red'\n",
    "            \n",
    "            hover_text = f'Point ({point[0]}, {point[1]})<br>' + \\\n",
    "                        f'λ1: {weights[0]:.3f}<br>' + \\\n",
    "                        f'λ2: {weights[1]:.3f}<br>' + \\\n",
    "                        f'λ3: {weights[2]:.3f}<br>' + \\\n",
    "                        f'Inside: {is_inside}'\n",
    "            \n",
    "            fig.add_trace(go.Scatter(\n",
    "                x=[point[0]],\n",
    "                y=[point[1]],\n",
    "                mode='markers',\n",
    "                marker=dict(\n",
    "                    size=12,\n",
    "                    color=color,\n",
    "                    symbol='circle'\n",
    "                ),\n",
    "                name=f'({point[0]}, {point[1]})',\n",
    "                text=[hover_text],\n",
    "                hovertemplate='%{text}<extra></extra>'\n",
    "            ))\n",
    "        \n",
    "        # Update layout\n",
    "        fig.update_layout(\n",
    "            title='Triangle Point Test with Barycentric Coordinates',\n",
    "            xaxis_title='X',\n",
    "            yaxis_title='Y',\n",
    "            showlegend=True,\n",
    "            hovermode='closest',\n",
    "            width=800,\n",
    "            height=600\n",
    "        )\n",
    "        \n",
    "        # Make axes equal\n",
    "        fig.update_yaxes(\n",
    "            scaleanchor=\"x\",\n",
    "            scaleratio=1\n",
    "        )\n",
    "        \n",
    "        return fig\n",
    "\n",
    "# Create triangle and test points\n",
    "triangle = Triangle((0,0), (4,0), (2,3))\n",
    "test_points = [\n",
    "    (2,1),    # Inside\n",
    "    (2,0),    # On edge\n",
    "    (0,0),    # On vertex\n",
    "    (3,3),    # Outside\n",
    "    (1,1),    # Inside\n",
    "]\n",
    "\n",
    "# Create plotter and generate figure\n",
    "plotter = TrianglePlotter(triangle)\n",
    "fig = plotter.create_figure(test_points)\n",
    "\n",
    "# In a Jupyter notebook, this will display the interactive plot\n",
    "fig.show()"
   ]
  }
 ],
 "metadata": {
  "kernelspec": {
   "display_name": "new_env",
   "language": "python",
   "name": "python3"
  },
  "language_info": {
   "codemirror_mode": {
    "name": "ipython",
    "version": 3
   },
   "file_extension": ".py",
   "mimetype": "text/x-python",
   "name": "python",
   "nbconvert_exporter": "python",
   "pygments_lexer": "ipython3",
   "version": "3.12.4"
  }
 },
 "nbformat": 4,
 "nbformat_minor": 2
}
